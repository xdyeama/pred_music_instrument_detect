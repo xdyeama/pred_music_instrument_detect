{
  "cells": [
    {
      "cell_type": "code",
      "execution_count": 1,
      "metadata": {
        "colab": {
          "base_uri": "https://localhost:8080/"
        },
        "collapsed": true,
        "execution": {
          "iopub.execute_input": "2024-05-12T08:34:41.542001Z",
          "iopub.status.busy": "2024-05-12T08:34:41.541673Z",
          "iopub.status.idle": "2024-05-12T08:35:21.695749Z",
          "shell.execute_reply": "2024-05-12T08:35:21.694535Z",
          "shell.execute_reply.started": "2024-05-12T08:34:41.541966Z"
        },
        "id": "GjBURh7YVE3V",
        "jupyter": {
          "outputs_hidden": true
        },
        "outputId": "396c42cd-aad8-49ab-bcce-b76682b6292d",
        "trusted": true
      },
      "outputs": [
        {
          "name": "stdout",
          "output_type": "stream",
          "text": [
            "Mounted at /content/drive/\n"
          ]
        }
      ],
      "source": [
        "from google.colab import drive\n",
        "\n",
        "drive.mount('/content/drive/')"
      ]
    },
    {
      "cell_type": "code",
      "execution_count": null,
      "metadata": {},
      "outputs": [],
      "source": [
        "!unzip  /content/drive/MyDrive/irmas/IRMAS.zip -d /content\n",
        "!unzip  /content/drive/MyDrive/irmas/kob.zip -d /content\n",
        "!unzip  /content/drive/MyDrive/irmas/dom.zip -d /content"
      ]
    },
    {
      "cell_type": "code",
      "execution_count": 3,
      "metadata": {
        "execution": {
          "iopub.execute_input": "2024-05-12T08:37:03.738826Z",
          "iopub.status.busy": "2024-05-12T08:37:03.738414Z",
          "iopub.status.idle": "2024-05-12T08:37:11.874765Z",
          "shell.execute_reply": "2024-05-12T08:37:11.873983Z",
          "shell.execute_reply.started": "2024-05-12T08:37:03.738786Z"
        },
        "id": "-zq_msaYVE3V",
        "trusted": true
      },
      "outputs": [],
      "source": [
        "import pandas as pd\n",
        "import numpy as np\n",
        "import librosa\n",
        "from tqdm import tqdm\n",
        "import matplotlib.pyplot as plt\n",
        "import seaborn as sns\n",
        "from skimage.transform import rescale, resize, downscale_local_mean\n",
        "from sklearn.metrics import f1_score, roc_curve, precision_score, roc_auc_score, confusion_matrix\n",
        "import random\n",
        "import time\n",
        "\n",
        "import torch\n",
        "import torch.nn as nn\n",
        "import torch.nn.functional as F\n",
        "from torch.utils.data import DataLoader, Dataset, WeightedRandomSampler\n",
        "from torch.nn.parameter import Parameter\n",
        "from torchvision import models\n",
        "import torchaudio as ta\n",
        "import copy\n",
        "import os\n",
        "\n",
        "from scipy.special import logit, expit\n",
        "\n",
        "import matplotlib.pyplot as plt\n",
        "get_ipython().run_line_magic('matplotlib', 'inline')\n",
        "import warnings\n",
        "warnings.filterwarnings('ignore')"
      ]
    },
    {
      "cell_type": "code",
      "execution_count": 4,
      "metadata": {
        "execution": {
          "iopub.execute_input": "2024-05-12T08:37:11.876384Z",
          "iopub.status.busy": "2024-05-12T08:37:11.875953Z",
          "iopub.status.idle": "2024-05-12T08:37:11.974366Z",
          "shell.execute_reply": "2024-05-12T08:37:11.973372Z",
          "shell.execute_reply.started": "2024-05-12T08:37:11.876357Z"
        },
        "id": "cnrd7XYBVE3V",
        "trusted": true
      },
      "outputs": [],
      "source": [
        "classes_path = \"/content/IRMAS/\"\n",
        "classes = os.listdir(classes_path)\n",
        "\n",
        "train_dict = {'path': [], 'target':[]}\n",
        "\n",
        "for inst in classes:\n",
        "    files_path = classes_path + inst + \"/\"\n",
        "    if inst[0] != 'R':\n",
        "        files = os.listdir(files_path)\n",
        "        train_dict['path'].extend([\"/content/IRMAS/\" + inst + \"/\" + file for file in files])\n",
        "        train_dict['target'].extend([inst] * len(files))\n",
        "\n",
        "path = \"/content/dom/\"\n",
        "folder = os.listdir(path)\n",
        "\n",
        "inst = \"dom\"\n",
        "\n",
        "train_dict['path'].extend([\"/content/dom/\" + file for file in folder])\n",
        "train_dict['target'].extend([inst] * len(folder))\n",
        "\n",
        "path = \"/content/kob/\"\n",
        "folder = os.listdir(path)\n",
        "\n",
        "inst = \"kob\"\n",
        "\n",
        "train_dict['path'].extend([\"/content/kob/\" + file for file in folder])\n",
        "train_dict['target'].extend([inst] * len(folder))"
      ]
    },
    {
      "cell_type": "code",
      "execution_count": 5,
      "metadata": {
        "execution": {
          "iopub.execute_input": "2024-05-12T12:05:29.754685Z",
          "iopub.status.busy": "2024-05-12T12:05:29.754025Z",
          "iopub.status.idle": "2024-05-12T12:05:29.770432Z",
          "shell.execute_reply": "2024-05-12T12:05:29.769480Z",
          "shell.execute_reply.started": "2024-05-12T12:05:29.754651Z"
        },
        "id": "dMXgfcm9VE3W",
        "trusted": true
      },
      "outputs": [],
      "source": [
        "from sklearn.model_selection import train_test_split\n",
        "\n",
        "x_train, x_test, y_train, y_test = train_test_split(train_dict['path'],train_dict['target'], test_size=0.20, random_state=42, shuffle=True)\n",
        "x_train, x_val, y_train, y_val = train_test_split(x_train,y_train, test_size=0.125, random_state=42, shuffle=True)\n",
        "\n",
        "test_df = pd.DataFrame({'path': x_test, 'target': y_test})\n",
        "train_df = pd.DataFrame({'path': x_train, 'target': y_train})\n",
        "val_df = pd.DataFrame({'path': x_val, 'target': y_val})"
      ]
    },
    {
      "cell_type": "code",
      "execution_count": 6,
      "metadata": {
        "execution": {
          "iopub.execute_input": "2024-05-12T12:03:49.952216Z",
          "iopub.status.busy": "2024-05-12T12:03:49.951835Z",
          "iopub.status.idle": "2024-05-12T12:03:49.958524Z",
          "shell.execute_reply": "2024-05-12T12:03:49.957475Z",
          "shell.execute_reply.started": "2024-05-12T12:03:49.952185Z"
        },
        "id": "Wz0ge8nZVE3W",
        "trusted": true
      },
      "outputs": [],
      "source": [
        "SR = 44100\n",
        "\n",
        "len_audio = 3.0\n",
        "n_mels = 128\n",
        "fmin = 20\n",
        "fmax = 16000\n",
        "n_fft = 1024\n",
        "hop_length = 512\n",
        "GRADIENT_ACCUMULATION = 1\n",
        "NFOLDS = 5\n",
        "\n",
        "device = torch.device(\"cpu\")\n",
        "if torch.cuda.is_available():\n",
        "    device = torch.device(\"cuda\")\n",
        "\n",
        "epochs = 15\n",
        "batch_size = 32\n",
        "batch_size_val = 64"
      ]
    },
    {
      "cell_type": "code",
      "execution_count": 7,
      "metadata": {
        "execution": {
          "iopub.execute_input": "2024-05-12T12:03:51.988433Z",
          "iopub.status.busy": "2024-05-12T12:03:51.987474Z",
          "iopub.status.idle": "2024-05-12T12:03:51.994218Z",
          "shell.execute_reply": "2024-05-12T12:03:51.993203Z",
          "shell.execute_reply.started": "2024-05-12T12:03:51.988398Z"
        },
        "id": "aFxKfI2SVE3W",
        "trusted": true
      },
      "outputs": [],
      "source": [
        "INS_CODE = {}\n",
        "INV_INS_CODE = {}\n",
        "for i,label in enumerate(sorted(test_df.target.unique())):\n",
        "    INS_CODE[label] = i\n",
        "    INV_INS_CODE[i] = label"
      ]
    },
    {
      "cell_type": "code",
      "execution_count": 8,
      "metadata": {
        "execution": {
          "iopub.execute_input": "2024-05-12T12:03:52.480842Z",
          "iopub.status.busy": "2024-05-12T12:03:52.480287Z",
          "iopub.status.idle": "2024-05-12T12:03:52.490566Z",
          "shell.execute_reply": "2024-05-12T12:03:52.489471Z",
          "shell.execute_reply.started": "2024-05-12T12:03:52.480812Z"
        },
        "id": "gObOjFPrVE3W",
        "trusted": true
      },
      "outputs": [],
      "source": [
        "def get_audio(path,sr=SR):\n",
        "    y, sample_rate = librosa.load(path, sr=sr)\n",
        "    return y\n",
        "\n",
        "def mono_to_color(X, eps=1e-6):\n",
        "    X = np.stack([X, X, X], axis=-1)\n",
        "\n",
        "    mean = X.mean()\n",
        "    std = X.std()\n",
        "    X = (X - mean) / (std + eps)\n",
        "    _min, _max = X.min(), X.max()\n",
        "\n",
        "    if (_max - _min) > eps:\n",
        "        V = np.clip(X, _min, _max)\n",
        "        V = 255 * (V - _min) / (_max - _min)\n",
        "        V = V.astype(np.uint8)\n",
        "    else:\n",
        "        V = np.zeros_like(X, dtype=np.uint8)\n",
        "\n",
        "    return V\n",
        "\n",
        "def normalize(image, mean=None, std=None):\n",
        "    image = image / 255.0\n",
        "    return np.moveaxis(image, 2, 0).astype(np.float32)\n",
        "\n",
        "def compute_melspec(y):\n",
        "    melspec = librosa.feature.melspectrogram(\n",
        "        y=y, sr=SR, n_mels=n_mels, fmin=fmin, fmax=fmax, n_fft=n_fft, hop_length=hop_length\n",
        "    )\n",
        "\n",
        "    melspec = librosa.power_to_db(melspec).astype(np.float32)\n",
        "    return melspec"
      ]
    },
    {
      "cell_type": "code",
      "execution_count": 16,
      "metadata": {
        "execution": {
          "iopub.execute_input": "2024-05-12T12:09:37.017307Z",
          "iopub.status.busy": "2024-05-12T12:09:37.016913Z",
          "iopub.status.idle": "2024-05-12T12:09:37.026369Z",
          "shell.execute_reply": "2024-05-12T12:09:37.025399Z",
          "shell.execute_reply.started": "2024-05-12T12:09:37.017278Z"
        },
        "id": "RKPgw8DoVE3W",
        "trusted": true
      },
      "outputs": [],
      "source": [
        "class MusicDataset(Dataset):\n",
        "    def __init__(self, data, test=False):\n",
        "        super(MusicDataset, self).__init__()\n",
        "        self.data = data\n",
        "        self.test = test\n",
        "        self.effective_length = int(SR * len_audio)\n",
        "\n",
        "    def __len__(self):\n",
        "        return len(self.data)\n",
        "\n",
        "\n",
        "    def __getitem__(self, idx: int):\n",
        "        sample = self.data.loc[idx]\n",
        "\n",
        "        waveform = get_audio(sample['path'])\n",
        "\n",
        "\n",
        "        if len(waveform) > self.effective_length:\n",
        "            waveform = waveform[:int(SR * len_audio)]\n",
        "        elif len(waveform) == self.effective_length:\n",
        "            pass\n",
        "        else:\n",
        "            new_wave = np.zeros(self.effective_length, dtype=waveform.dtype)\n",
        "            start = np.random.randint(self.effective_length - len(waveform))\n",
        "            new_wave[start:start + len(waveform)] = waveform\n",
        "            waveform = new_wave.astype(np.float32)\n",
        "\n",
        "        melspec = compute_melspec(waveform)\n",
        "        image = mono_to_color(melspec)\n",
        "        image = normalize(image)\n",
        "\n",
        "        targets = INS_CODE[sample['target']]\n",
        "        return image, targets\n"
      ]
    },
    {
      "cell_type": "code",
      "execution_count": 17,
      "metadata": {
        "execution": {
          "iopub.execute_input": "2024-05-12T12:09:37.296547Z",
          "iopub.status.busy": "2024-05-12T12:09:37.296240Z",
          "iopub.status.idle": "2024-05-12T12:09:37.302383Z",
          "shell.execute_reply": "2024-05-12T12:09:37.301430Z",
          "shell.execute_reply.started": "2024-05-12T12:09:37.296520Z"
        },
        "id": "8xsv8ptfVE3W",
        "trusted": true
      },
      "outputs": [],
      "source": [
        "class Net(nn.Module):\n",
        "    def __init__(self,out_dim):\n",
        "        super(Net, self).__init__()\n",
        "        self.out_dim = out_dim\n",
        "\n",
        "        self.resnet = models.resnet50(weights='DEFAULT')\n",
        "        self.num_features = self.resnet.fc.in_features\n",
        "        self.resnet.fc = nn.Linear(self.num_features,self.out_dim)\n",
        "\n",
        "    def forward(self, x):\n",
        "        return self.resnet(x)"
      ]
    },
    {
      "cell_type": "code",
      "execution_count": 18,
      "metadata": {
        "execution": {
          "iopub.execute_input": "2024-05-12T12:09:37.505961Z",
          "iopub.status.busy": "2024-05-12T12:09:37.505671Z",
          "iopub.status.idle": "2024-05-12T12:09:37.513761Z",
          "shell.execute_reply": "2024-05-12T12:09:37.512769Z",
          "shell.execute_reply.started": "2024-05-12T12:09:37.505914Z"
        },
        "id": "7_ihQooVVE3X",
        "trusted": true
      },
      "outputs": [],
      "source": [
        "train_dataset = MusicDataset(pd.DataFrame({'path': x_train, 'target':y_train}))\n",
        "val_dataset = MusicDataset(pd.DataFrame({'path': x_val, 'target':y_val}))\n",
        "\n",
        "train_loader = DataLoader(train_dataset, batch_size=batch_size, shuffle=True)\n",
        "val_loader = DataLoader(val_dataset, batch_size=batch_size_val, shuffle=True)\n",
        "\n",
        "test_set = MusicDataset(test_df)\n",
        "test_loader =  DataLoader(test_set, batch_size=1, shuffle=True)"
      ]
    },
    {
      "cell_type": "code",
      "execution_count": 19,
      "metadata": {
        "execution": {
          "iopub.execute_input": "2024-05-12T12:09:37.701400Z",
          "iopub.status.busy": "2024-05-12T12:09:37.701127Z",
          "iopub.status.idle": "2024-05-12T12:09:38.244546Z",
          "shell.execute_reply": "2024-05-12T12:09:38.243527Z",
          "shell.execute_reply.started": "2024-05-12T12:09:37.701375Z"
        },
        "id": "xxMbll9pVE3X",
        "trusted": true
      },
      "outputs": [],
      "source": [
        "model = Net(13).to(device)"
      ]
    },
    {
      "cell_type": "code",
      "execution_count": 20,
      "metadata": {
        "execution": {
          "iopub.execute_input": "2024-05-12T12:09:38.246984Z",
          "iopub.status.busy": "2024-05-12T12:09:38.246265Z",
          "iopub.status.idle": "2024-05-12T12:09:38.253061Z",
          "shell.execute_reply": "2024-05-12T12:09:38.252106Z",
          "shell.execute_reply.started": "2024-05-12T12:09:38.246945Z"
        },
        "id": "PbFTVYzxVE3X",
        "trusted": true
      },
      "outputs": [],
      "source": [
        "dataloader = {\n",
        "    'train':train_loader,\n",
        "    'val':val_loader\n",
        "}\n",
        "optimizer = torch.optim.Adam(model.parameters(), lr=0.0001)\n",
        "criterion = nn.CrossEntropyLoss()"
      ]
    },
    {
      "cell_type": "code",
      "execution_count": 21,
      "metadata": {
        "execution": {
          "iopub.execute_input": "2024-05-12T12:10:32.392983Z",
          "iopub.status.busy": "2024-05-12T12:10:32.392036Z",
          "iopub.status.idle": "2024-05-12T12:10:32.406295Z",
          "shell.execute_reply": "2024-05-12T12:10:32.405076Z",
          "shell.execute_reply.started": "2024-05-12T12:10:32.392921Z"
        },
        "id": "tMBwlawYVE3X",
        "trusted": true
      },
      "outputs": [],
      "source": [
        "def train_model(model, dataloaders, optimizer, criterion=criterion, num_epochs=20):\n",
        "    start = time.time()\n",
        "    val_acc_history = []\n",
        "\n",
        "    best_model_weights = copy.deepcopy(model.state_dict())\n",
        "    best_acc = 0\n",
        "\n",
        "    train_loss_history = []\n",
        "    val_loss_history = []\n",
        "\n",
        "    for epoch in range(num_epochs):\n",
        "        print('Epoch {}/{}'.format(epoch, num_epochs - 1))\n",
        "        print('-'*10)\n",
        "        for phase in ['train', 'val']:\n",
        "            if phase == 'train':\n",
        "                model.train()\n",
        "            else:\n",
        "                model.eval()\n",
        "\n",
        "            running_loss = 0\n",
        "            running_corrects = 0\n",
        "            for x_batch, y_batch in dataloaders[phase]:\n",
        "                inputs, labels = x_batch, y_batch\n",
        "                inputs = inputs.to('cuda')\n",
        "                labels = labels.to('cuda')\n",
        "                optimizer.zero_grad()\n",
        "                with torch.set_grad_enabled(phase == 'train'):\n",
        "                    outputs = model(inputs)\n",
        "                    loss = criterion(outputs, labels)\n",
        "                    _, preds = torch.max(outputs, 1)\n",
        "                    if phase == 'train':\n",
        "                        loss.backward()\n",
        "                        optimizer.step()\n",
        "                running_loss += loss.item() * inputs.size(0)\n",
        "                running_corrects += torch.sum(preds==labels.data)\n",
        "\n",
        "            epoch_loss = running_loss / len(dataloaders[phase].dataset)\n",
        "            epoch_acc = running_corrects.double() / len(dataloaders[phase].dataset)\n",
        "\n",
        "            print('{} Loss: {:.4f} Acc: {:.4f}'.format(phase, epoch_loss, epoch_acc))\n",
        "            if phase == 'val' and epoch_acc > best_acc:\n",
        "                best_acc = epoch_acc\n",
        "                best_model_weights = copy.deepcopy(model.state_dict())\n",
        "            if phase == 'val':\n",
        "                val_acc_history.append(epoch_acc)\n",
        "\n",
        "            if phase == 'train':\n",
        "                train_loss_history.append(epoch_loss)\n",
        "            else:\n",
        "                val_loss_history.append(epoch_loss)\n",
        "\n",
        "    time_elapsed = time.time()\n",
        "\n",
        "    print('Training complete in {:.0f}m {:.0f}s'.format(time_elapsed // 60, time_elapsed % 60))\n",
        "    print('Best val Acc: {:4f}'.format(best_acc))\n",
        "\n",
        "    # Best model weights are loaded here\n",
        "    model.load_state_dict(best_model_weights)\n",
        "    return model, val_acc_history, train_loss_history, val_loss_history"
      ]
    },
    {
      "cell_type": "code",
      "execution_count": 22,
      "metadata": {
        "colab": {
          "base_uri": "https://localhost:8080/"
        },
        "execution": {
          "iopub.execute_input": "2024-05-12T12:10:32.743426Z",
          "iopub.status.busy": "2024-05-12T12:10:32.742972Z",
          "iopub.status.idle": "2024-05-12T13:04:38.475868Z",
          "shell.execute_reply": "2024-05-12T13:04:38.474489Z",
          "shell.execute_reply.started": "2024-05-12T12:10:32.743389Z"
        },
        "id": "jgZWuC0mVE3X",
        "outputId": "4235bf3f-dcac-4849-c4ad-2b3773c96081",
        "trusted": true
      },
      "outputs": [
        {
          "name": "stdout",
          "output_type": "stream",
          "text": [
            "Epoch 0/29\n",
            "----------\n",
            "train Loss: 1.8759 Acc: 0.4208\n",
            "val Loss: 1.3246 Acc: 0.5451\n",
            "Epoch 1/29\n",
            "----------\n",
            "train Loss: 0.8552 Acc: 0.7225\n",
            "val Loss: 0.9599 Acc: 0.6823\n",
            "Epoch 2/29\n",
            "----------\n",
            "train Loss: 0.3874 Acc: 0.8836\n",
            "val Loss: 0.9607 Acc: 0.6925\n",
            "Epoch 3/29\n",
            "----------\n",
            "train Loss: 0.1513 Acc: 0.9624\n",
            "val Loss: 0.9498 Acc: 0.7370\n",
            "Epoch 4/29\n",
            "----------\n",
            "train Loss: 0.0795 Acc: 0.9817\n",
            "val Loss: 0.9804 Acc: 0.7281\n",
            "Epoch 5/29\n",
            "----------\n",
            "train Loss: 0.0613 Acc: 0.9853\n",
            "val Loss: 0.9806 Acc: 0.7484\n",
            "Epoch 6/29\n",
            "----------\n",
            "train Loss: 0.0445 Acc: 0.9904\n",
            "val Loss: 1.1216 Acc: 0.7459\n",
            "Epoch 7/29\n",
            "----------\n",
            "train Loss: 0.0458 Acc: 0.9891\n",
            "val Loss: 1.1114 Acc: 0.7344\n",
            "Epoch 8/29\n",
            "----------\n",
            "train Loss: 0.0425 Acc: 0.9882\n",
            "val Loss: 1.0980 Acc: 0.7624\n",
            "Epoch 9/29\n",
            "----------\n",
            "train Loss: 0.0530 Acc: 0.9844\n",
            "val Loss: 0.9934 Acc: 0.7726\n",
            "Epoch 10/29\n",
            "----------\n",
            "train Loss: 0.0294 Acc: 0.9916\n",
            "val Loss: 1.0470 Acc: 0.7497\n",
            "Epoch 11/29\n",
            "----------\n",
            "train Loss: 0.0496 Acc: 0.9860\n",
            "val Loss: 1.1042 Acc: 0.7484\n",
            "Epoch 12/29\n",
            "----------\n",
            "train Loss: 0.0345 Acc: 0.9913\n",
            "val Loss: 1.1255 Acc: 0.7484\n",
            "Epoch 13/29\n",
            "----------\n",
            "train Loss: 0.0229 Acc: 0.9940\n",
            "val Loss: 1.0514 Acc: 0.7497\n",
            "Epoch 14/29\n",
            "----------\n",
            "train Loss: 0.0226 Acc: 0.9926\n",
            "val Loss: 1.0630 Acc: 0.7522\n",
            "Epoch 15/29\n",
            "----------\n",
            "train Loss: 0.0212 Acc: 0.9938\n",
            "val Loss: 1.1377 Acc: 0.7586\n",
            "Epoch 16/29\n",
            "----------\n",
            "train Loss: 0.0280 Acc: 0.9920\n",
            "val Loss: 1.1354 Acc: 0.7471\n",
            "Epoch 17/29\n",
            "----------\n",
            "train Loss: 0.0419 Acc: 0.9869\n",
            "val Loss: 1.0921 Acc: 0.7548\n",
            "Epoch 18/29\n",
            "----------\n",
            "train Loss: 0.0597 Acc: 0.9806\n",
            "val Loss: 1.1282 Acc: 0.7408\n",
            "Epoch 19/29\n",
            "----------\n",
            "train Loss: 0.0339 Acc: 0.9893\n",
            "val Loss: 0.9169 Acc: 0.7751\n",
            "Epoch 20/29\n",
            "----------\n",
            "train Loss: 0.0374 Acc: 0.9873\n",
            "val Loss: 1.1454 Acc: 0.7433\n",
            "Epoch 21/29\n",
            "----------\n",
            "train Loss: 0.0558 Acc: 0.9835\n",
            "val Loss: 1.0636 Acc: 0.7611\n",
            "Epoch 22/29\n",
            "----------\n",
            "train Loss: 0.0253 Acc: 0.9926\n",
            "val Loss: 1.0720 Acc: 0.7827\n",
            "Epoch 23/29\n",
            "----------\n",
            "train Loss: 0.0259 Acc: 0.9911\n",
            "val Loss: 1.0327 Acc: 0.7624\n",
            "Epoch 24/29\n",
            "----------\n",
            "train Loss: 0.0290 Acc: 0.9920\n",
            "val Loss: 1.0345 Acc: 0.7637\n",
            "Epoch 25/29\n",
            "----------\n",
            "train Loss: 0.0280 Acc: 0.9920\n",
            "val Loss: 1.0135 Acc: 0.7865\n",
            "Epoch 26/29\n",
            "----------\n",
            "train Loss: 0.0203 Acc: 0.9938\n",
            "val Loss: 1.0340 Acc: 0.7853\n",
            "Epoch 27/29\n",
            "----------\n",
            "train Loss: 0.0328 Acc: 0.9911\n",
            "val Loss: 1.0088 Acc: 0.7789\n",
            "Epoch 28/29\n",
            "----------\n",
            "train Loss: 0.0149 Acc: 0.9964\n",
            "val Loss: 1.0623 Acc: 0.7840\n",
            "Epoch 29/29\n",
            "----------\n",
            "train Loss: 0.0478 Acc: 0.9866\n",
            "val Loss: 1.0260 Acc: 0.7878\n",
            "Training complete in 28594449m 60s\n",
            "Best val Acc: 0.787802\n"
          ]
        }
      ],
      "source": [
        "model, val_acc_history, train_loss_history, val_loss_history = train_model(model, dataloader, optimizer, criterion, 30)"
      ]
    },
    {
      "cell_type": "code",
      "execution_count": 23,
      "metadata": {
        "execution": {
          "iopub.execute_input": "2024-05-12T13:04:39.947323Z",
          "iopub.status.busy": "2024-05-12T13:04:39.947026Z",
          "iopub.status.idle": "2024-05-12T13:04:39.954562Z",
          "shell.execute_reply": "2024-05-12T13:04:39.953583Z",
          "shell.execute_reply.started": "2024-05-12T13:04:39.947298Z"
        },
        "id": "g57ohy4TVE3X",
        "trusted": true
      },
      "outputs": [],
      "source": [
        "import numpy as np\n",
        "\n",
        "def plot_training_history(train_loss_history, val_loss_history):\n",
        "    plt.figure(figsize=(10, 6))\n",
        "    plt.plot(train_loss_history, label='Training Loss')\n",
        "    plt.plot(val_loss_history, label='Validation Loss')\n",
        "\n",
        "    # Calculate the average losses\n",
        "    average_train_loss = np.mean(train_loss_history)\n",
        "    average_val_loss = np.mean(val_loss_history)\n",
        "\n",
        "    # Display average losses on the plot\n",
        "    plt.axhline(y=average_train_loss, color='r', linestyle='--', label=f'Average Training Loss: {average_train_loss:.4f}')\n",
        "    plt.axhline(y=average_val_loss, color='b', linestyle='--', label=f'Average Validation Loss: {average_val_loss:.4f}')\n",
        "\n",
        "    plt.title('Training and Validation Losses Over Epochs')\n",
        "    plt.xlabel('Epochs')\n",
        "    plt.ylabel('Loss')\n",
        "    plt.legend()\n",
        "    plt.grid(True)\n",
        "    plt.show()"
      ]
    },
    {
      "cell_type": "code",
      "execution_count": 24,
      "metadata": {
        "colab": {
          "base_uri": "https://localhost:8080/",
          "height": 564
        },
        "execution": {
          "iopub.execute_input": "2024-05-12T13:04:39.956261Z",
          "iopub.status.busy": "2024-05-12T13:04:39.955809Z",
          "iopub.status.idle": "2024-05-12T13:04:40.306803Z",
          "shell.execute_reply": "2024-05-12T13:04:40.305859Z",
          "shell.execute_reply.started": "2024-05-12T13:04:39.956226Z"
        },
        "id": "1XAfK6liVE3X",
        "outputId": "8f8d2eb1-ca6b-48e2-81b4-afec72cff93b",
        "trusted": true
      },
      "outputs": [
        {
          "data": {
            "image/png": "[encoded data removed]",
            "text/plain": [
              "<Figure size 1000x600 with 1 Axes>"
            ]
          },
          "metadata": {},
          "output_type": "display_data"
        }
      ],
      "source": [
        "plot_training_history(train_loss_history, val_loss_history)"
      ]
    },
    {
      "cell_type": "code",
      "execution_count": 26,
      "metadata": {
        "execution": {
          "iopub.execute_input": "2024-05-12T13:23:42.089110Z",
          "iopub.status.busy": "2024-05-12T13:23:42.088367Z",
          "iopub.status.idle": "2024-05-12T13:23:42.096110Z",
          "shell.execute_reply": "2024-05-12T13:23:42.095131Z",
          "shell.execute_reply.started": "2024-05-12T13:23:42.089078Z"
        },
        "id": "OkI4F2_tVE3X",
        "trusted": true
      },
      "outputs": [],
      "source": [
        "def test_model(model, dataloader):\n",
        "\n",
        "    model.eval()\n",
        "    total_loss = 0.0\n",
        "    total_samples = 0\n",
        "    all_preds = []\n",
        "    all_labels = []\n",
        "    incorrect_samples = []\n",
        "    incorrect_count = 0\n",
        "\n",
        "\n",
        "    with torch.no_grad():\n",
        "        for x_batch, y_batch in dataloader:\n",
        "            inputs, labels = x_batch, y_batch\n",
        "            inputs = inputs.to('cuda')\n",
        "            labels = labels.to('cuda')\n",
        "            outputs = model(inputs)\n",
        "            _, preds = torch.max(outputs, 1)\n",
        "            all_preds.append(preds.cpu().numpy())\n",
        "            all_labels.append(labels.cpu().numpy())\n",
        "    return all_labels, all_preds"
      ]
    },
    {
      "cell_type": "code",
      "execution_count": 27,
      "metadata": {
        "execution": {
          "iopub.execute_input": "2024-05-12T13:23:42.992870Z",
          "iopub.status.busy": "2024-05-12T13:23:42.992518Z",
          "iopub.status.idle": "2024-05-12T13:24:36.887188Z",
          "shell.execute_reply": "2024-05-12T13:24:36.885720Z",
          "shell.execute_reply.started": "2024-05-12T13:23:42.992841Z"
        },
        "id": "LVBzFxw0VE3Y",
        "trusted": true
      },
      "outputs": [],
      "source": [
        "all_labels, all_preds = test_model(model, test_loader)"
      ]
    },
    {
      "cell_type": "code",
      "execution_count": 28,
      "metadata": {
        "colab": {
          "base_uri": "https://localhost:8080/"
        },
        "execution": {
          "iopub.execute_input": "2024-05-12T13:24:36.890402Z",
          "iopub.status.busy": "2024-05-12T13:24:36.889848Z",
          "iopub.status.idle": "2024-05-12T13:24:36.938900Z",
          "shell.execute_reply": "2024-05-12T13:24:36.936084Z",
          "shell.execute_reply.started": "2024-05-12T13:24:36.890358Z"
        },
        "id": "wdfWG8CqVE3Y",
        "outputId": "f81310ff-ed2f-4c59-93af-a2887a596ac1",
        "trusted": true
      },
      "outputs": [
        {
          "name": "stdout",
          "output_type": "stream",
          "text": [
            "              precision    recall  f1-score   support\n",
            "\n",
            "           0       0.71      0.78      0.75        79\n",
            "           1       0.64      0.73      0.68        86\n",
            "           2       0.99      0.99      0.99       103\n",
            "           3       0.76      0.68      0.71        96\n",
            "           4       0.84      0.83      0.84       137\n",
            "           5       0.68      0.78      0.73       148\n",
            "           6       0.99      1.00      1.00       132\n",
            "           7       0.84      0.80      0.82       137\n",
            "           8       0.80      0.84      0.82       132\n",
            "           9       0.64      0.71      0.67       115\n",
            "          10       0.79      0.79      0.79       112\n",
            "          11       0.71      0.55      0.62       128\n",
            "          12       0.97      0.87      0.92       169\n",
            "\n",
            "    accuracy                           0.80      1574\n",
            "   macro avg       0.80      0.80      0.80      1574\n",
            "weighted avg       0.81      0.80      0.80      1574\n",
            "\n"
          ]
        }
      ],
      "source": [
        "from sklearn.metrics import classification_report, ConfusionMatrixDisplay\n",
        "print(classification_report(all_labels, all_preds))"
      ]
    },
    {
      "cell_type": "code",
      "execution_count": 29,
      "metadata": {
        "colab": {
          "base_uri": "https://localhost:8080/"
        },
        "execution": {
          "iopub.execute_input": "2024-05-12T13:24:36.940893Z",
          "iopub.status.busy": "2024-05-12T13:24:36.940439Z",
          "iopub.status.idle": "2024-05-12T13:24:36.959883Z",
          "shell.execute_reply": "2024-05-12T13:24:36.958621Z",
          "shell.execute_reply.started": "2024-05-12T13:24:36.940852Z"
        },
        "id": "BwKCq2fVVE3Y",
        "outputId": "c295c1dc-a712-4b6b-c009-1fcd11679511",
        "trusted": true
      },
      "outputs": [
        {
          "name": "stdout",
          "output_type": "stream",
          "text": [
            "0.8024142312579415\n"
          ]
        }
      ],
      "source": [
        "from sklearn.metrics import accuracy_score\n",
        "print(accuracy_score(all_labels, all_preds))"
      ]
    },
    {
      "cell_type": "code",
      "execution_count": 30,
      "metadata": {
        "colab": {
          "base_uri": "https://localhost:8080/",
          "height": 449
        },
        "execution": {
          "iopub.execute_input": "2024-05-12T13:25:25.337065Z",
          "iopub.status.busy": "2024-05-12T13:25:25.336711Z",
          "iopub.status.idle": "2024-05-12T13:25:25.820166Z",
          "shell.execute_reply": "2024-05-12T13:25:25.819290Z",
          "shell.execute_reply.started": "2024-05-12T13:25:25.337038Z"
        },
        "id": "ZLemqlDjVE3Y",
        "outputId": "a15a638f-aaa5-4096-9ec6-9eabb620c151",
        "trusted": true
      },
      "outputs": [
        {
          "data": {
            "image/png": "[encoded data removed]",
            "text/plain": [
              "<Figure size 640x480 with 2 Axes>"
            ]
          },
          "metadata": {},
          "output_type": "display_data"
        }
      ],
      "source": [
        "disp = ConfusionMatrixDisplay(confusion_matrix=confusion_matrix(all_labels, all_preds), display_labels=INS_CODE.keys())\n",
        "disp.plot()\n",
        "plt.show()"
      ]
    },
    {
      "cell_type": "code",
      "execution_count": 32,
      "metadata": {
        "colab": {
          "base_uri": "https://localhost:8080/"
        },
        "id": "7t1Ag4L5VE3Y",
        "outputId": "19fbbf73-4736-484b-8ba9-85976c231a0d"
      },
      "outputs": [
        {
          "data": {
            "text/plain": [
              "dict_keys(['cel', 'cla', 'dom', 'flu', 'gac', 'gel', 'kob', 'org', 'pia', 'sax', 'tru', 'vio', 'voi'])"
            ]
          },
          "execution_count": 32,
          "metadata": {},
          "output_type": "execute_result"
        }
      ],
      "source": [
        "INS_CODE.keys()"
      ]
    },
    {
      "cell_type": "code",
      "execution_count": null,
      "metadata": {
        "id": "b4VXBn-Izpo0"
      },
      "outputs": [],
      "source": []
    }
  ],
  "metadata": {
    "accelerator": "GPU",
    "colab": {
      "gpuType": "T4",
      "provenance": []
    },
    "kaggle": {
      "accelerator": "nvidiaTeslaT4",
      "dataSources": [],
      "dockerImageVersionId": 30698,
      "isGpuEnabled": true,
      "isInternetEnabled": true,
      "language": "python",
      "sourceType": "notebook"
    },
    "kernelspec": {
      "display_name": "Python 3",
      "name": "python3"
    },
    "language_info": {
      "codemirror_mode": {
        "name": "ipython",
        "version": 3
      },
      "file_extension": ".py",
      "mimetype": "text/x-python",
      "name": "python",
      "nbconvert_exporter": "python",
      "pygments_lexer": "ipython3",
      "version": "3.10.13"
    }
  },
  "nbformat": 4,
  "nbformat_minor": 0
}
